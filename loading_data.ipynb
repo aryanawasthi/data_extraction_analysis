{
 "cells": [
  {
   "cell_type": "code",
   "execution_count": 2,
   "metadata": {},
   "outputs": [],
   "source": [
    "from kaggle.api_client import ApiClient"
   ]
  },
  {
   "cell_type": "code",
   "execution_count": 4,
   "metadata": {},
   "outputs": [],
   "source": []
  },
  {
   "cell_type": "code",
   "execution_count": 10,
   "metadata": {},
   "outputs": [],
   "source": [
    "from kaggle.api_client import ApiClient\n",
    "from kaggle.api.kaggle_api_extended import KaggleApi\n",
    "\n",
    "\n",
    "# Initialize Kaggle API\n",
    "api = KaggleApi()\n",
    "\n",
    "# Set your Kaggle username and key\n",
    "api.authenticate()"
   ]
  },
  {
   "cell_type": "code",
   "execution_count": 12,
   "metadata": {},
   "outputs": [
    {
     "name": "stdout",
     "output_type": "stream",
     "text": [
      "Warning: Looks like you're using an outdated API Version, please consider updating (server 1.6.7 / client 1.6.6)\n"
     ]
    },
    {
     "data": {
      "text/plain": [
       "[willianoliveiragibin/alcohol-consumption,\n",
       " syedanwarafridi/vehicle-sales-data,\n",
       " nelgiriyewithana/apple-quality,\n",
       " mikhail1681/walmart-sales,\n",
       " harshitstark/covid-19-global-statistics-dataset,\n",
       " vedantkhapekar/top-10000-companies-dataset,\n",
       " kapoorprakhar/college-placement-dataset,\n",
       " nelgiriyewithana/emotions,\n",
       " sazidthe1/global-inflation-data,\n",
       " antaesterlin/walmart-commerce-data,\n",
       " bhavikjikadara/loan-status-prediction,\n",
       " imyjoshua/average-time-spent-by-a-user-on-social-media,\n",
       " imtkaggleteam/airplane-crashes,\n",
       " bhavikjikadara/google-play-store-applications,\n",
       " mrsimple07/diabetes-prediction,\n",
       " kanchana1990/popular-spotify-hindi-hits-top-1000,\n",
       " willianoliveiragibin/beer-consumption-per-person-2019,\n",
       " kanchana1990/spotifys-greatest-8000-iconic-tracks,\n",
       " padmapiyush/global-electric-vehicle-dataset-2023,\n",
       " beridzeg45/video-games]"
      ]
     },
     "execution_count": 12,
     "metadata": {},
     "output_type": "execute_result"
    }
   ],
   "source": [
    "api.dataset_list()\n",
    "api.dataset_download_file(file_name=\"willianoliveiragibin/alcohol-consumption\")"
   ]
  },
  {
   "cell_type": "code",
   "execution_count": 14,
   "metadata": {},
   "outputs": [
    {
     "ename": "TypeError",
     "evalue": "KaggleApi.dataset_download_file() missing 1 required positional argument: 'dataset'",
     "output_type": "error",
     "traceback": [
      "\u001b[1;31m---------------------------------------------------------------------------\u001b[0m",
      "\u001b[1;31mTypeError\u001b[0m                                 Traceback (most recent call last)",
      "Cell \u001b[1;32mIn[14], line 1\u001b[0m\n\u001b[1;32m----> 1\u001b[0m \u001b[43mapi\u001b[49m\u001b[38;5;241;43m.\u001b[39;49m\u001b[43mdataset_download_file\u001b[49m\u001b[43m(\u001b[49m\u001b[43mfile_name\u001b[49m\u001b[38;5;241;43m=\u001b[39;49m\u001b[38;5;124;43m\"\u001b[39;49m\u001b[38;5;124;43mwillianoliveiragibin/alcohol-consumption\u001b[39;49m\u001b[38;5;124;43m\"\u001b[39;49m\u001b[43m)\u001b[49m\n",
      "\u001b[1;31mTypeError\u001b[0m: KaggleApi.dataset_download_file() missing 1 required positional argument: 'dataset'"
     ]
    }
   ],
   "source": [
    "api.dataset_download_file(file_name=\"willianoliveiragibin/alcohol-consumption\")"
   ]
  },
  {
   "cell_type": "code",
   "execution_count": 23,
   "metadata": {},
   "outputs": [],
   "source": [
    "dataset_path='willianoliveiragibin/alcohol-consumption'\n",
    "api.dataset_download_files(dataset_path,unzip=True)"
   ]
  },
  {
   "cell_type": "code",
   "execution_count": null,
   "metadata": {},
   "outputs": [],
   "source": []
  }
 ],
 "metadata": {
  "kernelspec": {
   "display_name": "Python 3",
   "language": "python",
   "name": "python3"
  },
  "language_info": {
   "codemirror_mode": {
    "name": "ipython",
    "version": 3
   },
   "file_extension": ".py",
   "mimetype": "text/x-python",
   "name": "python",
   "nbconvert_exporter": "python",
   "pygments_lexer": "ipython3",
   "version": "3.11.4"
  }
 },
 "nbformat": 4,
 "nbformat_minor": 2
}
